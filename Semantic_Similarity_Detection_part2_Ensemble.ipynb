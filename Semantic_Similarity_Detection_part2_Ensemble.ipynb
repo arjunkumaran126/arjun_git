{
  "cells": [
    {
      "cell_type": "code",
      "execution_count": null,
      "id": "9741c9ca",
      "metadata": {
        "id": "9741c9ca"
      },
      "outputs": [],
      "source": [
        "import pandas as pd"
      ]
    },
    {
      "cell_type": "code",
      "execution_count": null,
      "id": "2d47d292",
      "metadata": {
        "id": "2d47d292"
      },
      "outputs": [],
      "source": [
        "result = pd.read_csv(\"final_features.csv\")"
      ]
    },
    {
      "cell_type": "code",
      "execution_count": null,
      "id": "8e922b22",
      "metadata": {
        "id": "8e922b22"
      },
      "outputs": [],
      "source": [
        "import pandas as pd\n",
        "import matplotlib.pyplot as plt\n",
        "import re\n",
        "import time\n",
        "import warnings\n",
        "import csv\n",
        "import os\n",
        "warnings.filterwarnings(\"ignore\")\n",
        "import datetime as dt\n",
        "import numpy as np\n",
        "from nltk.corpus import stopwords\n",
        "from sklearn.decomposition import TruncatedSVD\n",
        "from sklearn.preprocessing import normalize\n",
        "from sklearn.feature_extraction.text import CountVectorizer\n",
        "from sklearn.manifold import TSNE\n",
        "import seaborn as sns\n",
        "from sklearn.neighbors import KNeighborsClassifier\n",
        "from sklearn.metrics import confusion_matrix\n",
        "from sklearn.metrics import accuracy_score, log_loss\n",
        "from sklearn.feature_extraction.text import TfidfVectorizer\n",
        "from collections import Counter\n",
        "from scipy.sparse import hstack\n",
        "from sklearn.multiclass import OneVsRestClassifier\n",
        "from sklearn.svm import SVC\n",
        "from sklearn.model_selection import StratifiedKFold\n",
        "from collections import Counter, defaultdict\n",
        "from sklearn.calibration import CalibratedClassifierCV\n",
        "from sklearn.naive_bayes import MultinomialNB\n",
        "from sklearn.naive_bayes import GaussianNB\n",
        "from sklearn.model_selection import train_test_split\n",
        "from sklearn.model_selection import GridSearchCV\n",
        "import math\n",
        "from sklearn.metrics import normalized_mutual_info_score\n",
        "from sklearn.ensemble import RandomForestClassifier\n",
        "from sklearn.model_selection import RandomizedSearchCV\n",
        "\n",
        "\n",
        "from sklearn.model_selection import cross_val_score\n",
        "from sklearn.linear_model import SGDClassifier\n",
        "# from mlxtend.classifier import StackingClassifier\n",
        "\n",
        "from sklearn import model_selection\n",
        "from sklearn.linear_model import LogisticRegression\n",
        "from sklearn.metrics import precision_recall_curve, auc, roc_curve"
      ]
    },
    {
      "cell_type": "code",
      "execution_count": null,
      "id": "2ccdfb4d",
      "metadata": {
        "id": "2ccdfb4d"
      },
      "outputs": [],
      "source": []
    },
    {
      "cell_type": "code",
      "execution_count": null,
      "id": "19dd1cdf",
      "metadata": {
        "id": "19dd1cdf"
      },
      "outputs": [],
      "source": []
    },
    {
      "cell_type": "code",
      "execution_count": null,
      "id": "5b9b494b",
      "metadata": {
        "id": "5b9b494b"
      },
      "outputs": [],
      "source": [
        "y_true = result['is_duplicate']\n",
        "result.drop(['is_duplicate'],axis=1,inplace=True)\n",
        "X_train,X_test, y_train, y_test = train_test_split(result, y_true, stratify=y_true, test_size=0.3)"
      ]
    },
    {
      "cell_type": "code",
      "execution_count": null,
      "id": "0cc1ea2f",
      "metadata": {
        "id": "0cc1ea2f",
        "outputId": "150d68aa-5651-49ee-9ec5-a903ba304076"
      },
      "outputs": [
        {
          "name": "stdout",
          "output_type": "stream",
          "text": [
            "Number of data points in train data : (70000, 212)\n",
            "Number of data points in test data : (30000, 212)\n"
          ]
        }
      ],
      "source": [
        "print(\"Number of data points in train data :\",X_train.shape)\n",
        "print(\"Number of data points in test data :\",X_test.shape)"
      ]
    },
    {
      "cell_type": "code",
      "execution_count": null,
      "id": "14bdcae1",
      "metadata": {
        "id": "14bdcae1",
        "outputId": "1109338b-a9a1-41f4-e7f5-d400b47060aa"
      },
      "outputs": [
        {
          "name": "stdout",
          "output_type": "stream",
          "text": [
            "---------- Distribution of output variable in train data ----------\n",
            "Class 0:  0.5 Class 1:  0.5\n",
            "---------- Distribution of output variable in test data ----------\n",
            "Class 0:  0.5 Class 1:  0.5\n"
          ]
        }
      ],
      "source": [
        "print(\"-\"*10, \"Distribution of output variable in train data\", \"-\"*10)\n",
        "train_distr = Counter(y_train)\n",
        "train_len = len(y_train)\n",
        "print(\"Class 0: \",int(train_distr[0])/train_len,\"Class 1: \", int(train_distr[1])/train_len)\n",
        "print(\"-\"*10, \"Distribution of output variable in test data\", \"-\"*10)\n",
        "test_distr = Counter(y_test)\n",
        "test_len = len(y_test)\n",
        "print(\"Class 0: \",int(test_distr[0])/test_len, \"Class 1: \",int(test_distr[1])/test_len)"
      ]
    },
    {
      "cell_type": "code",
      "execution_count": null,
      "id": "ff071a40",
      "metadata": {
        "id": "ff071a40"
      },
      "outputs": [],
      "source": [
        "# This function plots the confusion matrices given y_i, y_i_hat.\n",
        "def plot_confusion_matrix(test_y, predict_y):\n",
        "    C = confusion_matrix(test_y, predict_y)\n",
        "\n",
        "    A =(((C.T)/(C.sum(axis=1))).T)\n",
        "\n",
        "    B =(C/C.sum(axis=0))\n",
        "\n",
        "    plt.figure(figsize=(20,4))\n",
        "\n",
        "    labels = [0,1]\n",
        "    # representing A in heatmap format\n",
        "    cmap=sns.light_palette(\"blue\")\n",
        "    plt.subplot(1, 3, 1)\n",
        "    sns.heatmap(C, annot=True, cmap=cmap, fmt=\".3f\", xticklabels=labels, yticklabels=labels)\n",
        "    plt.xlabel('Predicted Class')\n",
        "    plt.ylabel('Original Class')\n",
        "    plt.title(\"Confusion matrix\")\n",
        "\n",
        "    plt.subplot(1, 3, 2)\n",
        "    sns.heatmap(B, annot=True, cmap=cmap, fmt=\".3f\", xticklabels=labels, yticklabels=labels)\n",
        "    plt.xlabel('Predicted Class')\n",
        "    plt.ylabel('Original Class')\n",
        "    plt.title(\"Precision matrix\")\n",
        "\n",
        "    plt.subplot(1, 3, 3)\n",
        "    # representing B in heatmap format\n",
        "    sns.heatmap(A, annot=True, cmap=cmap, fmt=\".3f\", xticklabels=labels, yticklabels=labels)\n",
        "    plt.xlabel('Predicted Class')\n",
        "    plt.ylabel('Original Class')\n",
        "    plt.title(\"Recall matrix\")\n",
        "\n",
        "    plt.show()"
      ]
    },
    {
      "cell_type": "code",
      "execution_count": null,
      "id": "3b2b9406",
      "metadata": {
        "id": "3b2b9406",
        "outputId": "cf9fedec-a679-4c7a-f15f-755af83676fe"
      },
      "outputs": [
        {
          "name": "stdout",
          "output_type": "stream",
          "text": [
            "Requirement already satisfied: scikit-plot in c:\\users\\arjun\\anaconda3\\lib\\site-packages (0.3.7)\n",
            "Requirement already satisfied: scikit-learn>=0.18 in c:\\users\\arjun\\anaconda3\\lib\\site-packages (from scikit-plot) (1.0.2)\n",
            "Requirement already satisfied: joblib>=0.10 in c:\\users\\arjun\\anaconda3\\lib\\site-packages (from scikit-plot) (1.1.0)\n",
            "Requirement already satisfied: matplotlib>=1.4.0 in c:\\users\\arjun\\anaconda3\\lib\\site-packages (from scikit-plot) (3.5.1)\n",
            "Requirement already satisfied: scipy>=0.9 in c:\\users\\arjun\\anaconda3\\lib\\site-packages (from scikit-plot) (1.7.3)\n",
            "Requirement already satisfied: kiwisolver>=1.0.1 in c:\\users\\arjun\\anaconda3\\lib\\site-packages (from matplotlib>=1.4.0->scikit-plot) (1.3.2)\n",
            "Requirement already satisfied: pillow>=6.2.0 in c:\\users\\arjun\\anaconda3\\lib\\site-packages (from matplotlib>=1.4.0->scikit-plot) (9.0.1)\n",
            "Requirement already satisfied: packaging>=20.0 in c:\\users\\arjun\\anaconda3\\lib\\site-packages (from matplotlib>=1.4.0->scikit-plot) (21.3)\n",
            "Requirement already satisfied: python-dateutil>=2.7 in c:\\users\\arjun\\anaconda3\\lib\\site-packages (from matplotlib>=1.4.0->scikit-plot) (2.8.2)\n",
            "Requirement already satisfied: cycler>=0.10 in c:\\users\\arjun\\anaconda3\\lib\\site-packages (from matplotlib>=1.4.0->scikit-plot) (0.11.0)\n",
            "Requirement already satisfied: pyparsing>=2.2.1 in c:\\users\\arjun\\anaconda3\\lib\\site-packages (from matplotlib>=1.4.0->scikit-plot) (3.0.4)\n",
            "Requirement already satisfied: numpy>=1.17 in c:\\users\\arjun\\anaconda3\\lib\\site-packages (from matplotlib>=1.4.0->scikit-plot) (1.22.4)\n",
            "Requirement already satisfied: fonttools>=4.22.0 in c:\\users\\arjun\\anaconda3\\lib\\site-packages (from matplotlib>=1.4.0->scikit-plot) (4.25.0)\n",
            "Requirement already satisfied: six>=1.5 in c:\\users\\arjun\\anaconda3\\lib\\site-packages (from python-dateutil>=2.7->matplotlib>=1.4.0->scikit-plot) (1.16.0)\n",
            "Requirement already satisfied: threadpoolctl>=2.0.0 in c:\\users\\arjun\\anaconda3\\lib\\site-packages (from scikit-learn>=0.18->scikit-plot) (2.2.0)\n",
            "Note: you may need to restart the kernel to use updated packages.\n"
          ]
        }
      ],
      "source": [
        "pip install scikit-plot"
      ]
    },
    {
      "cell_type": "code",
      "execution_count": null,
      "id": "c0cc78f3",
      "metadata": {
        "id": "c0cc78f3"
      },
      "outputs": [],
      "source": [
        "\n",
        "from sklearn.metrics import classification_report\n",
        "from sklearn.metrics import roc_curve\n",
        "from sklearn.metrics import auc"
      ]
    },
    {
      "cell_type": "code",
      "execution_count": null,
      "id": "70faad3d",
      "metadata": {
        "id": "70faad3d",
        "outputId": "3e97e24d-7ea2-42fd-c74d-d53866adbbbf"
      },
      "outputs": [
        {
          "name": "stdout",
          "output_type": "stream",
          "text": [
            "Log loss on Test Data using Random Model 0.8869826589982713\n"
          ]
        },
        {
          "data": {
            "image/png": "[encoded data removed]",
            "text/plain": [
              "<Figure size 1440x288 with 6 Axes>"
            ]
          },
          "metadata": {
            "needs_background": "light"
          },
          "output_type": "display_data"
        }
      ],
      "source": [
        "import scikitplot.metrics as skplt\n",
        "\n",
        "# we need to generate 9 numbers and the sum of numbers should be 1\n",
        "# one solution is to genarate 9 numbers and divide each of the numbers by their sum\n",
        "# we create a output array that has exactly same size as the CV data\n",
        "predicted_y = np.zeros((test_len,2))\n",
        "for i in range(test_len):\n",
        "    rand_probs = np.random.rand(1,2)\n",
        "    predicted_y[i] = ((rand_probs/sum(sum(rand_probs)))[0])\n",
        "print(\"Log loss on Test Data using Random Model\",log_loss(y_test, predicted_y, eps=1e-15))\n",
        "predicted_y =np.argmax(predicted_y, axis=1)\n",
        "\n",
        "plot_confusion_matrix(y_test, predicted_y)\n",
        "plt.show()"
      ]
    },
    {
      "cell_type": "code",
      "execution_count": null,
      "id": "5303f92e",
      "metadata": {
        "scrolled": true,
        "id": "5303f92e",
        "outputId": "c63c094c-d253-4b56-aa0f-b6e58c1b8f3b"
      },
      "outputs": [
        {
          "name": "stdout",
          "output_type": "stream",
          "text": [
            "Classification Report\n",
            "               precision    recall  f1-score   support\n",
            "\n",
            "           0       0.50      0.50      0.50     15000\n",
            "           1       0.50      0.50      0.50     15000\n",
            "\n",
            "    accuracy                           0.50     30000\n",
            "   macro avg       0.50      0.50      0.50     30000\n",
            "weighted avg       0.50      0.50      0.50     30000\n",
            "\n"
          ]
        }
      ],
      "source": [
        "print(\"Classification Report\\n\",classification_report(y_test,predicted_y))"
      ]
    },
    {
      "cell_type": "code",
      "execution_count": null,
      "id": "d0489159",
      "metadata": {
        "id": "d0489159"
      },
      "outputs": [],
      "source": [
        "import xgboost as xgb\n",
        "from sklearn.svm import SVC\n",
        "from sklearn.ensemble import VotingClassifier\n",
        "from sklearn.metrics import log_loss\n",
        "from sklearn.calibration import CalibratedClassifierCV\n",
        "from sklearn.model_selection import train_test_split"
      ]
    },
    {
      "cell_type": "code",
      "execution_count": null,
      "id": "29c8fc41",
      "metadata": {
        "id": "29c8fc41"
      },
      "outputs": [],
      "source": [
        "xgb_clf = xgb.XGBClassifier(random_state=42) # XGBoost classifier\n",
        "svm_clf = SVC(probability=True, random_state=42) # SVM classifier"
      ]
    },
    {
      "cell_type": "code",
      "execution_count": null,
      "id": "43761f10",
      "metadata": {
        "id": "43761f10"
      },
      "outputs": [],
      "source": [
        "ensemble_clf = VotingClassifier(estimators=[('xgb', xgb_clf), ('svm', svm_clf)], voting='soft')"
      ]
    },
    {
      "cell_type": "code",
      "execution_count": null,
      "id": "1b8fd8f0",
      "metadata": {
        "id": "1b8fd8f0"
      },
      "outputs": [],
      "source": [
        "calibrated_clf = CalibratedClassifierCV(ensemble_clf, method='isotonic', cv=5)"
      ]
    },
    {
      "cell_type": "code",
      "execution_count": null,
      "id": "988e71b1",
      "metadata": {
        "id": "988e71b1"
      },
      "outputs": [],
      "source": [
        "X_train_sub, _, y_train_sub, _ = train_test_split(X_train, y_train, train_size=0.5, random_state=42)"
      ]
    },
    {
      "cell_type": "code",
      "execution_count": null,
      "id": "1722dd6c",
      "metadata": {
        "id": "1722dd6c",
        "outputId": "ae2e1b99-627a-48af-e7a9-f0219ebc8909"
      },
      "outputs": [
        {
          "data": {
            "text/plain": [
              "CalibratedClassifierCV(base_estimator=VotingClassifier(estimators=[('xgb',\n",
              "                                                                    XGBClassifier(base_score=None,\n",
              "                                                                                  booster=None,\n",
              "                                                                                  callbacks=None,\n",
              "                                                                                  colsample_bylevel=None,\n",
              "                                                                                  colsample_bynode=None,\n",
              "                                                                                  colsample_bytree=None,\n",
              "                                                                                  device=None,\n",
              "                                                                                  early_stopping_rounds=None,\n",
              "                                                                                  enable_categorical=False,\n",
              "                                                                                  eval_metric=None,\n",
              "                                                                                  feature_types=None,\n",
              "                                                                                  gamma=None,\n",
              "                                                                                  grow_policy=None,\n",
              "                                                                                  importance_type=None,\n",
              "                                                                                  in...\n",
              "                                                                                  max_bin=None,\n",
              "                                                                                  max_cat_threshold=None,\n",
              "                                                                                  max_cat_to_onehot=None,\n",
              "                                                                                  max_delta_step=None,\n",
              "                                                                                  max_depth=None,\n",
              "                                                                                  max_leaves=None,\n",
              "                                                                                  min_child_weight=None,\n",
              "                                                                                  missing=nan,\n",
              "                                                                                  monotone_constraints=None,\n",
              "                                                                                  multi_strategy=None,\n",
              "                                                                                  n_estimators=None,\n",
              "                                                                                  n_jobs=None,\n",
              "                                                                                  num_parallel_tree=None,\n",
              "                                                                                  random_state=42, ...)),\n",
              "                                                                   ('svm',\n",
              "                                                                    SVC(probability=True,\n",
              "                                                                        random_state=42))],\n",
              "                                                       voting='soft'),\n",
              "                       cv=5, method='isotonic')"
            ]
          },
          "execution_count": 18,
          "metadata": {},
          "output_type": "execute_result"
        }
      ],
      "source": [
        "calibrated_clf.fit(X_train_sub, y_train_sub)"
      ]
    },
    {
      "cell_type": "code",
      "execution_count": null,
      "id": "428f3cf2",
      "metadata": {
        "id": "428f3cf2",
        "outputId": "f548fe71-1964-47a7-893c-009bd23c1585"
      },
      "outputs": [
        {
          "name": "stdout",
          "output_type": "stream",
          "text": [
            "The test log loss is: 0.38521276054740117\n",
            "Total number of data points: 30000\n"
          ]
        },
        {
          "data": {
            "image/png": "[encoded data removed]",
            "text/plain": [
              "<Figure size 1440x288 with 6 Axes>"
            ]
          },
          "metadata": {
            "needs_background": "light"
          },
          "output_type": "display_data"
        }
      ],
      "source": [
        "predict_y = calibrated_clf.predict_proba(X_test)\n",
        "print('The test log loss is:', log_loss(y_test, predict_y))\n",
        "predicted_y = calibrated_clf.predict(X_test)\n",
        "print('Total number of data points:', len(predicted_y))\n",
        "plot_confusion_matrix(y_test, predicted_y)"
      ]
    },
    {
      "cell_type": "code",
      "execution_count": null,
      "id": "f354fe38",
      "metadata": {
        "id": "f354fe38",
        "outputId": "56dfd8d4-7489-481d-bee8-deb26b1dcee3"
      },
      "outputs": [
        {
          "name": "stdout",
          "output_type": "stream",
          "text": [
            "Classification Report\n",
            "               precision    recall  f1-score   support\n",
            "\n",
            "           0       0.86      0.75      0.80     15000\n",
            "           1       0.78      0.87      0.82     15000\n",
            "\n",
            "    accuracy                           0.81     30000\n",
            "   macro avg       0.82      0.81      0.81     30000\n",
            "weighted avg       0.82      0.81      0.81     30000\n",
            "\n"
          ]
        }
      ],
      "source": [
        "print(\"Classification Report\\n\",classification_report(y_test,predicted_y))"
      ]
    },
    {
      "cell_type": "code",
      "execution_count": null,
      "id": "c7a1e22b",
      "metadata": {
        "id": "c7a1e22b",
        "outputId": "d97dc565-a8e4-4991-f405-9848a4e769ac"
      },
      "outputs": [
        {
          "name": "stdout",
          "output_type": "stream",
          "text": [
            "Train log loss =  0.30479694276041863\n"
          ]
        }
      ],
      "source": [
        "#y_pred_test=calibrated_clf.predict_proba(X_test)\n",
        "y_pred_train=calibrated_clf.predict_proba(X_train)\n",
        "log_loss_train = log_loss(y_train, y_pred_train, eps=1e-15)\n",
        "#log_loss_test=log_loss(y_test,y_pred_test,eps=1e-15)\n",
        "print('Train log loss = ',log_loss_train)"
      ]
    },
    {
      "cell_type": "code",
      "execution_count": null,
      "id": "85938432",
      "metadata": {
        "id": "85938432"
      },
      "outputs": [],
      "source": []
    }
  ],
  "metadata": {
    "kernelspec": {
      "display_name": "Python 3 (ipykernel)",
      "language": "python",
      "name": "python3"
    },
    "language_info": {
      "codemirror_mode": {
        "name": "ipython",
        "version": 3
      },
      "file_extension": ".py",
      "mimetype": "text/x-python",
      "name": "python",
      "nbconvert_exporter": "python",
      "pygments_lexer": "ipython3",
      "version": "3.9.12"
    },
    "colab": {
      "provenance": []
    }
  },
  "nbformat": 4,
  "nbformat_minor": 5
}